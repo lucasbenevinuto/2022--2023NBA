{
 "cells": [
  {
   "cell_type": "markdown",
   "metadata": {},
   "source": [
    "\n",
    "![NBA](image.png){width=150px height=100px}\n",
    "The NBA (National Basketball Association) is more than just a sports league; it's a global phenomenon that encompasses excellence in basketball, cultural influence, economic significance, and social impact. Founded in 1946, the NBA has evolved into a powerhouse that resonates worldwide.\n",
    "\n",
    "At its core, the NBA showcases the highest level of professional basketball, with iconic players like Michael Jordan, Magic Johnson, and Kobe Bryant becoming legends in both sports and popular culture. The league's games are thrilling spectacles, offering entertainment through high-scoring contests and events like the NBA All-Star Weekend.\n",
    "\n",
    "Beyond the court, the NBA is a cultural ambassador. Its players use their platforms to address social issues, advocate for change, and inspire future generations. The league's influence extends globally, with a diverse international fan base and players from around the world.\n",
    "\n",
    "Economically, the NBA generates billions of dollars in revenue, benefiting not only its franchises but also the communities they serve. It contributes to job creation, tourism, and various businesses connected to the sport.\n",
    "\n",
    "The NBA has played a pivotal role in globalizing basketball, promoting technological innovations in sports, and fostering diplomacy through the sport. It inspires young athletes to dream big and emphasizes values like teamwork and perseverance.\n",
    "\n",
    "In summary, the NBA represents the pinnacle of basketball excellence, serves as a cultural and entertainment force, drives economic growth, and promotes social change. Its enduring impact makes it a vital part of the global sports and cultural landscape.\n",
    "\n",
    "With that in mind, this project aims to analyze the performance of players in this important league and rank them based on various criteria."
   ]
  },
  {
   "cell_type": "markdown",
   "metadata": {},
   "source": [
    "To begin, let's import the necessary libraries for the project and then convert the CSV files into dataframes."
   ]
  },
  {
   "cell_type": "code",
   "execution_count": 36,
   "metadata": {},
   "outputs": [],
   "source": [
    "import pandas as pd\n",
    "import matplotlib.pyplot as plt\n",
    "import numpy as np\n",
    "\n",
    "players_regular = pd.read_csv(\"Regular.csv\", encoding='ISO-8859-1', delimiter=';')\n",
    "players_playoffs = pd.read_csv(\"Playoffs.csv\", encoding='ISO-8859-1', delimiter=';')"
   ]
  },
  {
   "cell_type": "markdown",
   "metadata": {},
   "source": [
    "Let's perform a calculation using weights for each category: PTS, FG%, ORB, AST.\n",
    "\n",
    "- PTS represents the average points per game, to find the total, it's necessary to multiply by G (games played).\n",
    "- FG% is the statistic responsible for shooting efficiency.\n",
    "- ORB is the statistic for offensive rebounds per game, to find the total, it's necessary to multiply by G (games played).\n",
    "- AST is the statistic for assists per game, to find the total, it's necessary to multiply by G (games played)."
   ]
  },
  {
   "cell_type": "code",
   "execution_count": 37,
   "metadata": {},
   "outputs": [],
   "source": [
    "players_regular['PTS_T'] = players_regular['PTS'] * players_regular['G']\n",
    "\n",
    "players_regular['ORB_T'] = players_regular['ORB'] * players_regular['G']\n",
    "\n",
    "players_regular['AST_T'] = players_regular['AST'] * players_regular['G']"
   ]
  },
  {
   "cell_type": "markdown",
   "metadata": {},
   "source": [
    "Now, let's create a constant that will represent the total scoring value of each player, as it's essential to evaluate not only the total number of points but also the number of opportunities that player had to score. For this purpose, we will use FG%."
   ]
  },
  {
   "cell_type": "code",
   "execution_count": 38,
   "metadata": {},
   "outputs": [],
   "source": [
    "players_regular['CONSTANT'] = players_regular['PTS_T'] // (1 - players_regular['FG%'])"
   ]
  },
  {
   "cell_type": "markdown",
   "metadata": {},
   "source": [
    "To conclude, let's create a column called SCORE, and through it, we will have the results. Each parameter will receive its respective weight to enhance the accuracy of our outcomes. Next, we will sort the players in descending order using the SCORE column as a parameter and then select the top 10 rows."
   ]
  },
  {
   "cell_type": "code",
   "execution_count": 39,
   "metadata": {},
   "outputs": [
    {
     "name": "stdout",
     "output_type": "stream",
     "text": [
      "----REGULAR----\n",
      "                     Player Pos   SCORE   PTS_T  ORB_T  AST_T\n",
      "1              Nikola Joki?   C  6276.6  1690.5  165.6  676.2\n",
      "2               Joel Embiid   C  5611.8  2184.6  112.2  277.2\n",
      "3          Domantas Sabonis   C  5578.0  1508.9  252.8  576.7\n",
      "4               Luka Don?i?  PG  5403.6  2138.4   52.8  528.0\n",
      "5     Giannis Antetokounmpo  PF  5378.4  1959.3  138.6  359.1\n",
      "6   Shai Gilgeous-Alexander  PG  5227.4  2135.2   61.2  374.0\n",
      "7              Jayson Tatum  PF  5014.6  2227.4   81.4  340.4\n",
      "8                Trae Young  PG  4955.0  1912.6   58.4  744.6\n",
      "9              De'Aaron Fox  PG  4702.6  1825.0   36.5  445.3\n",
      "10            DeMar DeRozan  SF  4483.8  1813.0   37.0  377.4\n"
     ]
    }
   ],
   "source": [
    "players_regular['SCORE'] = players_regular['CONSTANT'] + (players_regular['AST_T'] * 2) + (players_regular['ORB_T'] * 2)\n",
    "\n",
    "players_regular = players_regular.sort_values(by='SCORE', ascending=False)\n",
    "\n",
    "players_regular1 = players_regular[['Player', 'Pos','SCORE', 'PTS_T', 'ORB_T', 'AST_T']]\n",
    "\n",
    "#Code for error correction in the DataFrame.\n",
    "players_regular1 = players_regular1[players_regular1['PTS_T'] >= 10]\n",
    "\n",
    "print('----REGULAR----')\n",
    "players_regular1.index = range(1, len(players_regular1) + 1)\n",
    "print(players_regular1.head(10))"
   ]
  },
  {
   "cell_type": "markdown",
   "metadata": {},
   "source": [
    "Now let's repeat the process with the DataFrame corresponding to the playoffs."
   ]
  },
  {
   "cell_type": "code",
   "execution_count": 40,
   "metadata": {},
   "outputs": [
    {
     "name": "stdout",
     "output_type": "stream",
     "text": [
      "           Player   SCORE  PTS_T  ORB_T  AST_T\n",
      "1    Nikola Joki?  1847.0  600.0   70.0  190.0\n",
      "2    Jimmy Butler  1464.0  591.8   46.2  129.8\n",
      "3    Jamal Murray  1306.0  522.0   16.0  142.0\n",
      "4    Jayson Tatum  1267.0  544.0   26.0  106.0\n",
      "5    Jaylen Brown  1088.0  454.0   26.0   68.0\n",
      "6     Bam Adebayo  1087.4  411.7   62.1   85.1\n",
      "7    Devin Booker  1075.6  370.7   12.1   79.2\n",
      "8    LeBron James  1039.2  392.0   25.6  104.0\n",
      "9   Stephen Curry   918.8  396.5    9.1   79.3\n",
      "10  Anthony Davis   913.0  361.6   38.4   41.6\n"
     ]
    }
   ],
   "source": [
    "players_playoffs['PTS_T'] = players_playoffs['PTS'] * players_playoffs['G']\n",
    "\n",
    "players_playoffs['ORB_T'] = players_playoffs['ORB'] * players_playoffs['G']\n",
    "\n",
    "players_playoffs['AST_T'] = players_playoffs['AST'] * players_playoffs['G']\n",
    "\n",
    "players_playoffs['QUALITY'] = players_playoffs['PTS_T'] // (1 - players_playoffs['FG%'])\n",
    "\n",
    "players_playoffs['SCORE'] = players_playoffs['QUALITY'] + (players_playoffs['AST_T'] * 2) + (players_playoffs['ORB_T'] * 2)\n",
    "\n",
    "players_playoffs = players_playoffs.sort_values(by='SCORE', ascending=False)\n",
    "\n",
    "players_playoffs1 = players_playoffs[['Player','SCORE', 'PTS_T', 'ORB_T', 'AST_T']]\n",
    "\n",
    "#Code for error correction in the DataFrame.\n",
    "players_playoffs1 = players_playoffs1[players_playoffs1['PTS_T'] >= 10]\n",
    "\n",
    "players_playoffs1.index = range(1, len(players_playoffs1) + 1)\n",
    "print(players_playoffs1.head(10))"
   ]
  },
  {
   "cell_type": "markdown",
   "metadata": {},
   "source": [
    "Now let's find out who were the players with the best defensive performance both in the regular season and in the playoffs, for that, we will use the data related to steals, blocks, and defensive rebounds."
   ]
  },
  {
   "cell_type": "code",
   "execution_count": 41,
   "metadata": {},
   "outputs": [
    {
     "name": "stdout",
     "output_type": "stream",
     "text": [
      "                   Player  SCORE_D  DRB  STL  BLK\n",
      "1           Anthony Davis     7.65  9.1  1.1  2.0\n",
      "2             Joel Embiid     6.90  8.4  1.0  1.7\n",
      "3             Nic Claxton     6.80  6.8  0.9  2.5\n",
      "4            Nikola Joki?     6.70  9.4  1.3  0.7\n",
      "5       Jaren Jackson Jr.     6.50  5.0  1.0  3.0\n",
      "6   Giannis Antetokounmpo     6.40  9.6  0.8  0.8\n",
      "7             Rudy Gobert     6.35  8.3  0.8  1.4\n",
      "8          Nikola Vu?evi?     5.95  9.1  0.7  0.7\n",
      "9            Myles Turner     5.95  6.1  0.6  2.3\n",
      "10       Domantas Sabonis     5.85  9.1  0.8  0.5\n"
     ]
    }
   ],
   "source": [
    "players_regular['SCORE_D'] = (players_regular['DRB'] / 2) + (players_regular['STL']) + (players_regular['BLK'])\n",
    "\n",
    "\n",
    "players_regular = players_regular.sort_values(by='SCORE_D', ascending=False)\n",
    "\n",
    "players_regular2 = players_regular[['Player', 'SCORE_D', 'DRB', 'STL', 'BLK']]\n",
    "\n",
    "players_regular2.index = range(1, len(players_regular2) + 1)\n",
    "\n",
    "print(players_regular2.head(10))\n"
   ]
  },
  {
   "cell_type": "code",
   "execution_count": 42,
   "metadata": {},
   "outputs": [
    {
     "name": "stdout",
     "output_type": "stream",
     "text": [
      "                Player  SCORE_D   DRB  STL  BLK\n",
      "1        Anthony Davis   165.60  11.7  1.4  3.1\n",
      "2         Nikola Joki?   142.00  10.0  1.1  1.0\n",
      "3         Jayson Tatum   136.00   9.2  1.1  1.1\n",
      "4          Bam Adebayo   118.45   7.1  0.9  0.7\n",
      "5           Al Horford   113.00   5.7  1.1  1.7\n",
      "6         LeBron James   101.60   8.3  1.1  1.1\n",
      "7         Jimmy Butler   100.10   4.3  1.8  0.6\n",
      "8   Michael Porter Jr.    93.00   7.1  0.5  0.6\n",
      "9         Jamal Murray    85.00   4.9  1.5  0.3\n",
      "10        Caleb Martin    79.35   4.3  0.9  0.4\n"
     ]
    }
   ],
   "source": [
    "players_playoffs['SCORE_D'] = ((players_playoffs['DRB'] / 2) + (players_playoffs['STL']) + (players_playoffs['BLK'])) * players_playoffs['G']\n",
    "\n",
    "\n",
    "players_playoffs = players_playoffs.sort_values(by='SCORE_D', ascending=False)\n",
    "\n",
    "players_playoffs2 = players_playoffs[['Player', 'SCORE_D', 'DRB', 'STL', 'BLK']]\n",
    "\n",
    "players_playoffs2.index = range(1, len(players_playoffs2) + 1)\n",
    "\n",
    "print(players_playoffs2.head(10))"
   ]
  }
 ],
 "metadata": {
  "kernelspec": {
   "display_name": "Python 3",
   "language": "python",
   "name": "python3"
  },
  "language_info": {
   "codemirror_mode": {
    "name": "ipython",
    "version": 3
   },
   "file_extension": ".py",
   "mimetype": "text/x-python",
   "name": "python",
   "nbconvert_exporter": "python",
   "pygments_lexer": "ipython3",
   "version": "3.10.11"
  },
  "orig_nbformat": 4
 },
 "nbformat": 4,
 "nbformat_minor": 2
}
